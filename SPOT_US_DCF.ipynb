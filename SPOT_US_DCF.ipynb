{
  "nbformat": 4,
  "nbformat_minor": 0,
  "metadata": {
    "colab": {
      "name": "SPOT US DCF.ipynb",
      "provenance": [],
      "collapsed_sections": []
    },
    "kernelspec": {
      "name": "python3",
      "display_name": "Python 3"
    },
    "language_info": {
      "name": "python"
    }
  },
  "cells": [
    {
      "cell_type": "code",
      "metadata": {
        "id": "p_7vvjVAyT9w"
      },
      "source": [
        "# Import necessary packages\n",
        "import numpy as np\n",
        "import pandas as pd\n",
        "import matplotlib.pyplot as plt\n",
        "import requests"
      ],
      "execution_count": null,
      "outputs": []
    },
    {
      "cell_type": "markdown",
      "metadata": {
        "id": "7J7eMFXSyWCr"
      },
      "source": [
        "## Download data for the model:"
      ]
    },
    {
      "cell_type": "code",
      "metadata": {
        "id": "tlb9UmgzyYrd"
      },
      "source": [
        "# Define paramters for data donload: \n",
        "ticker = 'SPOT'\n",
        "api_key = 'da2d62a4a8a1529c5f4b4ff4341089ce'\n",
        "\n",
        "# Get Income Statement data: \n",
        "IS = requests.get(f'https://financialmodelingprep.com/api/v3/income-statement/{ticker}?apikey={api_key}').json()\n",
        "\n",
        "BS = requests.get(f'https://financialmodelingprep.com/api/v3/balance-sheet-statement/{ticker}?apikey={api_key}').json()\n",
        "\n",
        "comp_profile = requests.get(f'https://financialmodelingprep.com/api/v3/profile/{ticker}?apikey={api_key}').json()\n"
      ],
      "execution_count": null,
      "outputs": []
    },
    {
      "cell_type": "markdown",
      "metadata": {
        "id": "4Eo8COE3ybk-"
      },
      "source": [
        "## define functions for the model build: \n"
      ]
    },
    {
      "cell_type": "code",
      "metadata": {
        "id": "S9tVcPA5yeg6"
      },
      "source": [
        "# Define function to create DF to hold the model: \n",
        "def df_creator(base_year, forecast_period): \n",
        "  col_names = [str(base_year)+'A']\n",
        "  for i in range(1, forecast_period+1):\n",
        "    year = base_year +i\n",
        "    col_names.append(str(year)+'F')\n",
        "  col_names.append('TV')\n",
        "  \n",
        "  row_names = ['Revenue growth rate', 'Revenue', 'EBIT margin', 'EBIT', 'Tax Rate', 'EBIT(1 - t)', 'Reinvestment', 'FCFF',\n",
        "               'WACC', 'DF', 'PV_FCFF', 'Sales to capital ratio', 'Invested capital', 'ROIC']\n",
        "\n",
        "  return pd.DataFrame(index=row_names, columns=col_names)\n",
        "\n",
        "\n",
        "def TV_creator():\n",
        "  col_name = ['Terminal Value']\n",
        "  row_names = ['Terminal CF', 'Terminal cost of capital' , 'TV', 'PV of TV', 'PV of CFs', 'Sum of PV', 'Prob of failure', \n",
        "               'Proceeds if failure', 'Value of Op assets', 'Debt', 'Cash', 'Value of equity', 'number of sh out', 'Estimated px']\n",
        "  \n",
        "  return pd.DataFrame(index = row_names, columns = col_name)\n",
        "               \n",
        "\n",
        "\n",
        "\n",
        "def revenue_growth_forecast(forecast_period, initial_assumption, convergence_period, tv_assumption):\n",
        "  revenue_ff = np.ones(forecast_period+2)*initial_assumption\n",
        "  convergence_rate = (initial_assumption-tv_assumption)/(forecast_period - convergence_period)\n",
        "  temp= []\n",
        "  for i in range(1,convergence_period+1):\n",
        "    temp.append(initial_assumption - convergence_rate*i)\n",
        "  \n",
        "  revenue_ff[convergence_period+1: forecast_period+1] = temp\n",
        "  revenue_ff[-1] = tv_assumption\n",
        "\n",
        "  revenue_ff[0] = (IS[0]['revenue'] - IS[1]['revenue'])/IS[0]['revenue']\n",
        "  \n",
        "  return revenue_ff\n",
        "\n",
        "\n",
        "def historical_values(tax_assumption):\n",
        "  revenue_hist = IS[0]['revenue'] \n",
        "  ebit_op_inc = IS[0]['operatingIncome']\n",
        "  ebit_op_margin = ebit_op_inc/revenue_hist\n",
        "  \n",
        "  if ebit_op_inc*(1 - tax_assumption)<0:\n",
        "    ebit_after_tax = 0\n",
        "  else:\n",
        "    ebit_after_tax = ebit_op_inc*(1 - tax_assumption)\n",
        "  \n",
        "  return revenue_hist, ebit_op_inc, ebit_op_margin, ebit_after_tax\n",
        "\n",
        "\n",
        "def revenue_forecast(DCF_model, forecast_period):\n",
        "  for i in range(1,forecast_period+2):\n",
        "    DCF_model.loc['Revenue'][i] = DCF_model.loc['Revenue'][i-1]*(1 + DCF_model.loc['Revenue growth rate'][i])\n",
        "  return DCF_model\n",
        "\n",
        "\n",
        "def assumption_forecast_ebit_margin(initial_estimate, convergence_period, tv_assumption, forecast_period):\n",
        "  convergence_rate = (tv_assumption - initial_estimate)/convergence_period\n",
        "\n",
        "  ebit_margin = np.ones(forecast_period+2)\n",
        "  ebit_margin = ebit_margin*tv_assumption\n",
        "\n",
        "  temp = []\n",
        "  for i in range(0,convergence_period):\n",
        "    temp.append(initial_estimate + convergence_rate*i)\n",
        "\n",
        "  ebit_margin[1:convergence_period+1] = temp  \n",
        "\n",
        "  # define historical value: \n",
        "\n",
        "  revenue_hist = IS[0]['revenue'] \n",
        "  ebit_op_inc = IS[0]['operatingIncome']\n",
        "  ebit_op_margin = ebit_op_inc/revenue_hist\n",
        "\n",
        "  ebit_margin[0] = ebit_op_margin\n",
        "\n",
        "  return ebit_margin\n",
        "\n",
        "\n",
        "def tax_rate_assumption(tax_rate, forecast_period):\n",
        "  tax_rate_assumption = np.ones(forecast_period+2)*tax_rate\n",
        "  return tax_rate_assumption\n",
        "\n",
        "def sales_to_capital_assumption(first_stage, second_stage, forecasting_period, first_stage_length):\n",
        "  sales_to_capital_assumption = np.ones(forecasting_period+1)*first_stage\n",
        "  sales_to_capital_assumption[first_stage_length+1:] = second_stage\n",
        "\n",
        "  return sales_to_capital_assumption\n",
        "\n",
        "\n",
        "def beta_calculation():\n",
        "  pass\n",
        "\n",
        "\n",
        "def cost_of_equity(rf, ERP): \n",
        "  beta = comp_profile[0]['beta']\n",
        "  return rf + beta*ERP\n",
        "\n",
        "def cost_of_capital(cost_of_equity, cost_of_debt, tax_rate):\n",
        "  total_debt = BS[0]['totalDebt']\n",
        "  equity = BS[0]['totalStockholdersEquity']\n",
        "  debt_weight = total_debt/(total_debt + equity)\n",
        "  equity_weight = equity/(total_debt+equity)\n",
        "\n",
        "  return (cost_of_equity*equity_weight + cost_of_debt*debt_weight*(1-tax_rate))\n",
        "\n",
        "\n"
      ],
      "execution_count": null,
      "outputs": []
    },
    {
      "cell_type": "code",
      "metadata": {
        "id": "F2-DBfHsyjp-"
      },
      "source": [
        ""
      ],
      "execution_count": null,
      "outputs": []
    },
    {
      "cell_type": "markdown",
      "metadata": {
        "id": "EmCmtwfWylmA"
      },
      "source": [
        "## Model build up"
      ]
    },
    {
      "cell_type": "code",
      "metadata": {
        "id": "0FMboEQIynoV"
      },
      "source": [
        "# Create DataFrame object to hold the model: \n",
        "SPOT_model = df_creator(2020, 10)\n",
        "SPOT_tv = TV_creator()"
      ],
      "execution_count": null,
      "outputs": []
    },
    {
      "cell_type": "code",
      "metadata": {
        "id": "7UKsELDvyrDH"
      },
      "source": [
        "# Define revenue growth forecast and input these estimates into the model object: \n",
        "revenue_forecast_array = revenue_growth_forecast(10, 0.23, 5, 0.045)\n",
        "SPOT_model.loc['Revenue growth rate'] = revenue_forecast_array"
      ],
      "execution_count": null,
      "outputs": []
    },
    {
      "cell_type": "code",
      "metadata": {
        "id": "WlOmk6dtyrow"
      },
      "source": [
        "# Determine and assign other historical values to the model: \n",
        "revenue_hist, ebit_op_inc, ebit_op_margin, ebit_after_tax = historical_values(0.25)\n",
        "SPOT_model.loc['Revenue']['2020A'] = revenue_hist\n"
      ],
      "execution_count": null,
      "outputs": []
    },
    {
      "cell_type": "code",
      "metadata": {
        "id": "peB8JP68zy1E"
      },
      "source": [
        "# Forecast company's revenue based on the forecasted growth rate:\n",
        "SPOT_model = revenue_forecast(SPOT_model, 10)"
      ],
      "execution_count": null,
      "outputs": []
    },
    {
      "cell_type": "code",
      "metadata": {
        "id": "JZKaK9zozy_w"
      },
      "source": [
        "# Forecast operating income margins:\n",
        "operating_margins=assumption_forecast_ebit_margin(0.08, 8, 0.18, 10)\n",
        "SPOT_model.loc['EBIT margin'] = operating_margins"
      ],
      "execution_count": null,
      "outputs": []
    },
    {
      "cell_type": "code",
      "metadata": {
        "id": "PreiLcWRzzHp"
      },
      "source": [
        "# Calculate operating_income (EBIT):\n",
        "SPOT_model.loc['EBIT'] = SPOT_model.loc['Revenue']*SPOT_model.loc['EBIT margin']"
      ],
      "execution_count": null,
      "outputs": []
    },
    {
      "cell_type": "code",
      "metadata": {
        "id": "L2lZXym-zzOz"
      },
      "source": [
        "# Insert tax rate assumption into the model object: \n",
        "tax_rate_def = tax_rate_assumption(0.25, 10)\n",
        "SPOT_model.loc['Tax Rate'] = tax_rate_def"
      ],
      "execution_count": null,
      "outputs": []
    },
    {
      "cell_type": "code",
      "metadata": {
        "id": "IFC53D2019zP"
      },
      "source": [
        "# Calculate EBIT(1 - t) based on the assumptions: \n",
        "SPOT_model.loc['EBIT(1 - t)'] = SPOT_model.loc['EBIT']*SPOT_model.loc['Tax Rate']"
      ],
      "execution_count": null,
      "outputs": []
    },
    {
      "cell_type": "code",
      "metadata": {
        "id": "OB7vW8Db196O"
      },
      "source": [
        "# Define sales to capital ratio assumption: \n",
        "stca = sales_to_capital_assumption(20.0, 20.0, 10, 7)\n",
        "SPOT_model.loc['Sales to capital ratio'][1:] = stca "
      ],
      "execution_count": null,
      "outputs": []
    },
    {
      "cell_type": "code",
      "metadata": {
        "id": "IcC-xqgM1-CX"
      },
      "source": [
        "# Calculate reinvestment amount: \n",
        "temp = [0]\n",
        "for i in range(11):\n",
        "  temp.append((SPOT_model.loc['Revenue'][i+1] - SPOT_model.loc['Revenue'][i])/SPOT_model.loc['Sales to capital ratio'][i+1])\n",
        "\n",
        "SPOT_model.loc['Reinvestment'] = temp"
      ],
      "execution_count": null,
      "outputs": []
    },
    {
      "cell_type": "code",
      "metadata": {
        "id": "Atp6W-OJ1-LX"
      },
      "source": [
        "# Calculate the FCFF: \n",
        "SPOT_model.loc['FCFF'] = SPOT_model.loc['EBIT(1 - t)'] - SPOT_model.loc['Reinvestment']"
      ],
      "execution_count": null,
      "outputs": []
    },
    {
      "cell_type": "code",
      "metadata": {
        "id": "DZAFIDL1a2rg"
      },
      "source": [
        "# calculate cost of capital: \n",
        "ce = cost_of_equity(0.01, 0.052)\n",
        "wacc = cost_of_capital(ce, 0.05, 0.25)\n",
        "\n",
        "# Assign the wacc variable to the appropriate row in the DF: \n",
        "SPOT_model.loc['WACC'][1:] = wacc"
      ],
      "execution_count": null,
      "outputs": []
    },
    {
      "cell_type": "code",
      "metadata": {
        "id": "DP3Jtt5Ga22E"
      },
      "source": [
        "# Calculate the discount factor for FCFF: \n",
        "temp = [1]\n",
        "for i in range(1,11):\n",
        "  temp.append(temp[i-1]*(1/(1 + SPOT_model.loc['WACC'][i])))\n",
        "\n",
        "# Assign the calculated values to the DF: \n",
        "SPOT_model.loc['DF'][1:11] = temp[1:]"
      ],
      "execution_count": null,
      "outputs": []
    },
    {
      "cell_type": "code",
      "metadata": {
        "id": "g5gLD4kaa2_k"
      },
      "source": [
        "# Calculate the PF of FCFF: \n",
        "SPOT_model.loc['PV_FCFF'][1:11] = SPOT_model.loc['DF'][1:11]*SPOT_model.loc['FCFF'][1:11]"
      ],
      "execution_count": null,
      "outputs": []
    },
    {
      "cell_type": "code",
      "metadata": {
        "id": "u-0mBcFMdt_E"
      },
      "source": [
        "# SPOT Terminal Value: \n",
        "\n",
        "SPOT_tv.loc['Terminal CF']['Terminal Value'] = SPOT_model.loc['FCFF'][-1]"
      ],
      "execution_count": null,
      "outputs": []
    },
    {
      "cell_type": "code",
      "metadata": {
        "id": "5x6n9wl4duOp"
      },
      "source": [
        "SPOT_tv.loc['Terminal cost of capital'] = wacc"
      ],
      "execution_count": null,
      "outputs": []
    },
    {
      "cell_type": "code",
      "metadata": {
        "id": "UnxU6lJjduTh"
      },
      "source": [
        "# Calculate TV: \n",
        "\n",
        "SPOT_tv.loc['TV'] = SPOT_tv.loc['Terminal CF']/(SPOT_tv.loc['Terminal cost of capital'] - SPOT_model.loc['Revenue growth rate'][-1])"
      ],
      "execution_count": null,
      "outputs": []
    },
    {
      "cell_type": "code",
      "metadata": {
        "id": "HTM3HLMrhpF6"
      },
      "source": [
        "# Calculate PV of TV: \n",
        "\n",
        "SPOT_tv.loc['PV of TV'] = SPOT_tv.loc['TV']*SPOT_model.loc['DF'][-2]"
      ],
      "execution_count": null,
      "outputs": []
    },
    {
      "cell_type": "code",
      "metadata": {
        "id": "XuqVUI5dhpTs"
      },
      "source": [
        "SPOT_tv.loc['PV of CFs'] = SPOT_model.loc['PV_FCFF'].sum()"
      ],
      "execution_count": null,
      "outputs": []
    },
    {
      "cell_type": "code",
      "metadata": {
        "id": "d1JJKX8shpf3"
      },
      "source": [
        "SPOT_tv.loc['Sum of PV'] = SPOT_tv.loc['PV of TV'] + SPOT_tv.loc['PV of CFs']"
      ],
      "execution_count": null,
      "outputs": []
    },
    {
      "cell_type": "code",
      "metadata": {
        "id": "pVpzDoq2hppg"
      },
      "source": [
        "# Define probability of failure for SPOT: \n",
        "SPOT_tv.loc['Prob of failure'] = 0.1"
      ],
      "execution_count": null,
      "outputs": []
    },
    {
      "cell_type": "code",
      "metadata": {
        "id": "EuiqARZfhp0k"
      },
      "source": [
        "# Calculate Proceeds if failure occurs (for simplicty assume it to be half of sum of PV): \n",
        "\n",
        "SPOT_tv.loc['Proceeds if failure'] = 0.5*SPOT_tv.loc['Sum of PV']"
      ],
      "execution_count": null,
      "outputs": []
    },
    {
      "cell_type": "code",
      "metadata": {
        "id": "molozKa1hp-h"
      },
      "source": [
        "# Calculate value of operating assets (prob weighted average of assets: success vs failure): \n",
        "SPOT_tv.loc['Value of Op assets'] = (1 - SPOT_tv.loc['Prob of failure'] )*SPOT_tv.loc['Sum of PV'] + SPOT_tv.loc['Prob of failure']*SPOT_tv.loc['Proceeds if failure']"
      ],
      "execution_count": null,
      "outputs": []
    },
    {
      "cell_type": "code",
      "metadata": {
        "id": "579F63lOnCMm"
      },
      "source": [
        "SPOT_tv.loc['Debt'] = BS[0]['totalDebt']\n",
        "SPOT_tv.loc['Cash'] = BS[0]['cashAndCashEquivalents']"
      ],
      "execution_count": null,
      "outputs": []
    },
    {
      "cell_type": "code",
      "metadata": {
        "id": "RuucIxRunCgP"
      },
      "source": [
        "# Calculate value of equity: \n",
        "\n",
        "SPOT_tv.loc['Value of equity'] = SPOT_tv.loc['Value of Op assets'] - SPOT_tv.loc['Debt'] + SPOT_tv.loc['Cash']"
      ],
      "execution_count": null,
      "outputs": []
    },
    {
      "cell_type": "code",
      "metadata": {
        "id": "XkBKd2AQnCzM"
      },
      "source": [
        "# Assign number of shares outstanding to the DF: \n",
        "SPOT_tv.loc['number of sh out'] = IS[0]['weightedAverageShsOutDil']"
      ],
      "execution_count": null,
      "outputs": []
    },
    {
      "cell_type": "code",
      "metadata": {
        "id": "Bx7gUcOrnC_m"
      },
      "source": [
        "\n",
        "SPOT_tv.loc['Estimated px'] = SPOT_tv.loc['Value of equity']/SPOT_tv.loc['number of sh out']"
      ],
      "execution_count": null,
      "outputs": []
    },
    {
      "cell_type": "markdown",
      "metadata": {
        "id": "qrxohRGjyrxt"
      },
      "source": [
        "## Model check: "
      ]
    },
    {
      "cell_type": "code",
      "metadata": {
        "colab": {
          "base_uri": "https://localhost:8080/",
          "height": 574
        },
        "id": "N1TpHjqUytYl",
        "outputId": "66b5b5e9-6a74-4d03-afa8-a403055aeaab"
      },
      "source": [
        "SPOT_model"
      ],
      "execution_count": null,
      "outputs": [
        {
          "output_type": "execute_result",
          "data": {
            "text/html": [
              "<div>\n",
              "<style scoped>\n",
              "    .dataframe tbody tr th:only-of-type {\n",
              "        vertical-align: middle;\n",
              "    }\n",
              "\n",
              "    .dataframe tbody tr th {\n",
              "        vertical-align: top;\n",
              "    }\n",
              "\n",
              "    .dataframe thead th {\n",
              "        text-align: right;\n",
              "    }\n",
              "</style>\n",
              "<table border=\"1\" class=\"dataframe\">\n",
              "  <thead>\n",
              "    <tr style=\"text-align: right;\">\n",
              "      <th></th>\n",
              "      <th>2020A</th>\n",
              "      <th>2021F</th>\n",
              "      <th>2022F</th>\n",
              "      <th>2023F</th>\n",
              "      <th>2024F</th>\n",
              "      <th>2025F</th>\n",
              "      <th>2026F</th>\n",
              "      <th>2027F</th>\n",
              "      <th>2028F</th>\n",
              "      <th>2029F</th>\n",
              "      <th>2030F</th>\n",
              "      <th>TV</th>\n",
              "    </tr>\n",
              "  </thead>\n",
              "  <tbody>\n",
              "    <tr>\n",
              "      <th>Revenue growth rate</th>\n",
              "      <td>0.141624</td>\n",
              "      <td>0.23</td>\n",
              "      <td>0.23</td>\n",
              "      <td>0.23</td>\n",
              "      <td>0.23</td>\n",
              "      <td>0.23</td>\n",
              "      <td>0.193</td>\n",
              "      <td>0.156</td>\n",
              "      <td>0.119</td>\n",
              "      <td>0.082</td>\n",
              "      <td>0.045</td>\n",
              "      <td>0.045</td>\n",
              "    </tr>\n",
              "    <tr>\n",
              "      <th>Revenue</th>\n",
              "      <td>7880000000</td>\n",
              "      <td>9.6924e+09</td>\n",
              "      <td>1.19217e+10</td>\n",
              "      <td>1.46636e+10</td>\n",
              "      <td>1.80363e+10</td>\n",
              "      <td>2.21846e+10</td>\n",
              "      <td>2.64662e+10</td>\n",
              "      <td>3.0595e+10</td>\n",
              "      <td>3.42358e+10</td>\n",
              "      <td>3.70431e+10</td>\n",
              "      <td>3.871e+10</td>\n",
              "      <td>4.0452e+10</td>\n",
              "    </tr>\n",
              "    <tr>\n",
              "      <th>EBIT margin</th>\n",
              "      <td>-0.0371827</td>\n",
              "      <td>0.08</td>\n",
              "      <td>0.0925</td>\n",
              "      <td>0.105</td>\n",
              "      <td>0.1175</td>\n",
              "      <td>0.13</td>\n",
              "      <td>0.1425</td>\n",
              "      <td>0.155</td>\n",
              "      <td>0.1675</td>\n",
              "      <td>0.18</td>\n",
              "      <td>0.18</td>\n",
              "      <td>0.18</td>\n",
              "    </tr>\n",
              "    <tr>\n",
              "      <th>EBIT</th>\n",
              "      <td>-2.93e+08</td>\n",
              "      <td>7.75392e+08</td>\n",
              "      <td>1.10275e+09</td>\n",
              "      <td>1.53968e+09</td>\n",
              "      <td>2.11926e+09</td>\n",
              "      <td>2.884e+09</td>\n",
              "      <td>3.77144e+09</td>\n",
              "      <td>4.74222e+09</td>\n",
              "      <td>5.73449e+09</td>\n",
              "      <td>6.66776e+09</td>\n",
              "      <td>6.96781e+09</td>\n",
              "      <td>7.28136e+09</td>\n",
              "    </tr>\n",
              "    <tr>\n",
              "      <th>Tax Rate</th>\n",
              "      <td>0.25</td>\n",
              "      <td>0.25</td>\n",
              "      <td>0.25</td>\n",
              "      <td>0.25</td>\n",
              "      <td>0.25</td>\n",
              "      <td>0.25</td>\n",
              "      <td>0.25</td>\n",
              "      <td>0.25</td>\n",
              "      <td>0.25</td>\n",
              "      <td>0.25</td>\n",
              "      <td>0.25</td>\n",
              "      <td>0.25</td>\n",
              "    </tr>\n",
              "    <tr>\n",
              "      <th>EBIT(1 - t)</th>\n",
              "      <td>-7.325e+07</td>\n",
              "      <td>1.93848e+08</td>\n",
              "      <td>2.75688e+08</td>\n",
              "      <td>3.8492e+08</td>\n",
              "      <td>5.29815e+08</td>\n",
              "      <td>7.21e+08</td>\n",
              "      <td>9.4286e+08</td>\n",
              "      <td>1.18556e+09</td>\n",
              "      <td>1.43362e+09</td>\n",
              "      <td>1.66694e+09</td>\n",
              "      <td>1.74195e+09</td>\n",
              "      <td>1.82034e+09</td>\n",
              "    </tr>\n",
              "    <tr>\n",
              "      <th>Reinvestment</th>\n",
              "      <td>0</td>\n",
              "      <td>9.062e+07</td>\n",
              "      <td>1.11463e+08</td>\n",
              "      <td>1.37099e+08</td>\n",
              "      <td>1.68632e+08</td>\n",
              "      <td>2.07417e+08</td>\n",
              "      <td>2.14081e+08</td>\n",
              "      <td>2.06437e+08</td>\n",
              "      <td>1.8204e+08</td>\n",
              "      <td>1.40367e+08</td>\n",
              "      <td>8.3347e+07</td>\n",
              "      <td>8.70976e+07</td>\n",
              "    </tr>\n",
              "    <tr>\n",
              "      <th>FCFF</th>\n",
              "      <td>-7.325e+07</td>\n",
              "      <td>1.03228e+08</td>\n",
              "      <td>1.64226e+08</td>\n",
              "      <td>2.47821e+08</td>\n",
              "      <td>3.61184e+08</td>\n",
              "      <td>5.13583e+08</td>\n",
              "      <td>7.28778e+08</td>\n",
              "      <td>9.79118e+08</td>\n",
              "      <td>1.25158e+09</td>\n",
              "      <td>1.52657e+09</td>\n",
              "      <td>1.65861e+09</td>\n",
              "      <td>1.73324e+09</td>\n",
              "    </tr>\n",
              "    <tr>\n",
              "      <th>WACC</th>\n",
              "      <td>NaN</td>\n",
              "      <td>0.0801894</td>\n",
              "      <td>0.0801894</td>\n",
              "      <td>0.0801894</td>\n",
              "      <td>0.0801894</td>\n",
              "      <td>0.0801894</td>\n",
              "      <td>0.0801894</td>\n",
              "      <td>0.0801894</td>\n",
              "      <td>0.0801894</td>\n",
              "      <td>0.0801894</td>\n",
              "      <td>0.0801894</td>\n",
              "      <td>0.0801894</td>\n",
              "    </tr>\n",
              "    <tr>\n",
              "      <th>DF</th>\n",
              "      <td>NaN</td>\n",
              "      <td>0.925764</td>\n",
              "      <td>0.857038</td>\n",
              "      <td>0.793415</td>\n",
              "      <td>0.734514</td>\n",
              "      <td>0.679987</td>\n",
              "      <td>0.629507</td>\n",
              "      <td>0.582775</td>\n",
              "      <td>0.539511</td>\n",
              "      <td>0.49946</td>\n",
              "      <td>0.462382</td>\n",
              "      <td>NaN</td>\n",
              "    </tr>\n",
              "    <tr>\n",
              "      <th>PV_FCFF</th>\n",
              "      <td>NaN</td>\n",
              "      <td>9.55647e+07</td>\n",
              "      <td>1.40748e+08</td>\n",
              "      <td>1.96625e+08</td>\n",
              "      <td>2.65295e+08</td>\n",
              "      <td>3.49229e+08</td>\n",
              "      <td>4.58771e+08</td>\n",
              "      <td>5.70605e+08</td>\n",
              "      <td>6.75243e+08</td>\n",
              "      <td>7.62462e+08</td>\n",
              "      <td>7.66909e+08</td>\n",
              "      <td>NaN</td>\n",
              "    </tr>\n",
              "    <tr>\n",
              "      <th>Sales to capital ratio</th>\n",
              "      <td>NaN</td>\n",
              "      <td>20</td>\n",
              "      <td>20</td>\n",
              "      <td>20</td>\n",
              "      <td>20</td>\n",
              "      <td>20</td>\n",
              "      <td>20</td>\n",
              "      <td>20</td>\n",
              "      <td>20</td>\n",
              "      <td>20</td>\n",
              "      <td>20</td>\n",
              "      <td>20</td>\n",
              "    </tr>\n",
              "    <tr>\n",
              "      <th>Invested capital</th>\n",
              "      <td>NaN</td>\n",
              "      <td>NaN</td>\n",
              "      <td>NaN</td>\n",
              "      <td>NaN</td>\n",
              "      <td>NaN</td>\n",
              "      <td>NaN</td>\n",
              "      <td>NaN</td>\n",
              "      <td>NaN</td>\n",
              "      <td>NaN</td>\n",
              "      <td>NaN</td>\n",
              "      <td>NaN</td>\n",
              "      <td>NaN</td>\n",
              "    </tr>\n",
              "    <tr>\n",
              "      <th>ROIC</th>\n",
              "      <td>NaN</td>\n",
              "      <td>NaN</td>\n",
              "      <td>NaN</td>\n",
              "      <td>NaN</td>\n",
              "      <td>NaN</td>\n",
              "      <td>NaN</td>\n",
              "      <td>NaN</td>\n",
              "      <td>NaN</td>\n",
              "      <td>NaN</td>\n",
              "      <td>NaN</td>\n",
              "      <td>NaN</td>\n",
              "      <td>NaN</td>\n",
              "    </tr>\n",
              "  </tbody>\n",
              "</table>\n",
              "</div>"
            ],
            "text/plain": [
              "                             2020A        2021F  ...        2030F           TV\n",
              "Revenue growth rate       0.141624         0.23  ...        0.045        0.045\n",
              "Revenue                 7880000000   9.6924e+09  ...    3.871e+10   4.0452e+10\n",
              "EBIT margin             -0.0371827         0.08  ...         0.18         0.18\n",
              "EBIT                     -2.93e+08  7.75392e+08  ...  6.96781e+09  7.28136e+09\n",
              "Tax Rate                      0.25         0.25  ...         0.25         0.25\n",
              "EBIT(1 - t)             -7.325e+07  1.93848e+08  ...  1.74195e+09  1.82034e+09\n",
              "Reinvestment                     0    9.062e+07  ...   8.3347e+07  8.70976e+07\n",
              "FCFF                    -7.325e+07  1.03228e+08  ...  1.65861e+09  1.73324e+09\n",
              "WACC                           NaN    0.0801894  ...    0.0801894    0.0801894\n",
              "DF                             NaN     0.925764  ...     0.462382          NaN\n",
              "PV_FCFF                        NaN  9.55647e+07  ...  7.66909e+08          NaN\n",
              "Sales to capital ratio         NaN           20  ...           20           20\n",
              "Invested capital               NaN          NaN  ...          NaN          NaN\n",
              "ROIC                           NaN          NaN  ...          NaN          NaN\n",
              "\n",
              "[14 rows x 12 columns]"
            ]
          },
          "metadata": {
            "tags": []
          },
          "execution_count": 380
        }
      ]
    },
    {
      "cell_type": "code",
      "metadata": {
        "colab": {
          "base_uri": "https://localhost:8080/",
          "height": 483
        },
        "id": "Nq9Hq4IQyuSB",
        "outputId": "db16bc0f-e8e3-42b1-d670-9672d58b11c2"
      },
      "source": [
        "SPOT_tv"
      ],
      "execution_count": null,
      "outputs": [
        {
          "output_type": "execute_result",
          "data": {
            "text/html": [
              "<div>\n",
              "<style scoped>\n",
              "    .dataframe tbody tr th:only-of-type {\n",
              "        vertical-align: middle;\n",
              "    }\n",
              "\n",
              "    .dataframe tbody tr th {\n",
              "        vertical-align: top;\n",
              "    }\n",
              "\n",
              "    .dataframe thead th {\n",
              "        text-align: right;\n",
              "    }\n",
              "</style>\n",
              "<table border=\"1\" class=\"dataframe\">\n",
              "  <thead>\n",
              "    <tr style=\"text-align: right;\">\n",
              "      <th></th>\n",
              "      <th>Terminal Value</th>\n",
              "    </tr>\n",
              "  </thead>\n",
              "  <tbody>\n",
              "    <tr>\n",
              "      <th>Terminal CF</th>\n",
              "      <td>1.73324e+09</td>\n",
              "    </tr>\n",
              "    <tr>\n",
              "      <th>Terminal cost of capital</th>\n",
              "      <td>0.0801894</td>\n",
              "    </tr>\n",
              "    <tr>\n",
              "      <th>TV</th>\n",
              "      <td>4.92547e+10</td>\n",
              "    </tr>\n",
              "    <tr>\n",
              "      <th>PV of TV</th>\n",
              "      <td>2.27745e+10</td>\n",
              "    </tr>\n",
              "    <tr>\n",
              "      <th>PV of CFs</th>\n",
              "      <td>4.28145e+09</td>\n",
              "    </tr>\n",
              "    <tr>\n",
              "      <th>Sum of PV</th>\n",
              "      <td>2.70559e+10</td>\n",
              "    </tr>\n",
              "    <tr>\n",
              "      <th>Prob of failure</th>\n",
              "      <td>0.1</td>\n",
              "    </tr>\n",
              "    <tr>\n",
              "      <th>Proceeds if failure</th>\n",
              "      <td>1.3528e+10</td>\n",
              "    </tr>\n",
              "    <tr>\n",
              "      <th>Value of Op assets</th>\n",
              "      <td>2.57031e+10</td>\n",
              "    </tr>\n",
              "    <tr>\n",
              "      <th>Debt</th>\n",
              "      <td>577000000</td>\n",
              "    </tr>\n",
              "    <tr>\n",
              "      <th>Cash</th>\n",
              "      <td>1151000000</td>\n",
              "    </tr>\n",
              "    <tr>\n",
              "      <th>Value of equity</th>\n",
              "      <td>2.62771e+10</td>\n",
              "    </tr>\n",
              "    <tr>\n",
              "      <th>number of sh out</th>\n",
              "      <td>187583307</td>\n",
              "    </tr>\n",
              "    <tr>\n",
              "      <th>Estimated px</th>\n",
              "      <td>140.082</td>\n",
              "    </tr>\n",
              "  </tbody>\n",
              "</table>\n",
              "</div>"
            ],
            "text/plain": [
              "                         Terminal Value\n",
              "Terminal CF                 1.73324e+09\n",
              "Terminal cost of capital      0.0801894\n",
              "TV                          4.92547e+10\n",
              "PV of TV                    2.27745e+10\n",
              "PV of CFs                   4.28145e+09\n",
              "Sum of PV                   2.70559e+10\n",
              "Prob of failure                     0.1\n",
              "Proceeds if failure          1.3528e+10\n",
              "Value of Op assets          2.57031e+10\n",
              "Debt                          577000000\n",
              "Cash                         1151000000\n",
              "Value of equity             2.62771e+10\n",
              "number of sh out              187583307\n",
              "Estimated px                    140.082"
            ]
          },
          "metadata": {
            "tags": []
          },
          "execution_count": 381
        }
      ]
    },
    {
      "cell_type": "code",
      "metadata": {
        "id": "gI2LC2aQd0hx"
      },
      "source": [
        ""
      ],
      "execution_count": null,
      "outputs": []
    }
  ]
}